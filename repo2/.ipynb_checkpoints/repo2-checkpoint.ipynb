{
 "cells": [
  {
   "cell_type": "code",
   "execution_count": 7,
   "metadata": {},
   "outputs": [],
   "source": [
    "#Sigmoid関数\n",
    "def sigmoid(x):\n",
    "    return 1 / (1 + np.exp(-x))\n",
    "\n",
    "\n",
    "#Softmax関数\n",
    "def softmax(x):\n",
    "    x_exp = np.exp(x)\n",
    "    return x_exp / np.sum(x_exp)"
   ]
  },
  {
   "cell_type": "code",
   "execution_count": 8,
   "metadata": {},
   "outputs": [
    {
     "name": "stdout",
     "output_type": "stream",
     "text": [
      "[[0.31682708 0.69627909]]\n"
     ]
    }
   ],
   "source": [
    "import numpy as np\n",
    "\n",
    "\n",
    "def init_network():\n",
    "    network = {}\n",
    "    network['W1'] = np.array([[0.1, 0.3, 0.5], [0.2, 0.4, 0.6]])\n",
    "    network['b1'] = np.array([[0.1, 0.2, 0.3]])\n",
    "    network['W2'] = np.array([[0.1, 0.4], [0.2, 0.5], [0.3, 0.6]])\n",
    "    network['b2'] = np.array([[0.1, 0.2]])\n",
    "    network['W3'] = np.array([[0.1, 0.3], [0.2, 0.4]])\n",
    "    network['b3'] = np.array([[0.1, 0.2]])\n",
    "    return network\n",
    "\n",
    "\n",
    "def forward(network, x):\n",
    "    # layer1\n",
    "    W1 = network['W1']\n",
    "    b1 = network['b1']\n",
    "    a1 = np.dot(x, W1) + b1\n",
    "    z1 = sigmoid(a1)\n",
    "    # layer2\n",
    "    W2 = network['W2']\n",
    "    b2 = network['b2']\n",
    "    a2 = np.dot(z1, W2) + b2\n",
    "    z2 = sigmoid(a2)\n",
    "    # layer3\n",
    "    W3 = network['W3']\n",
    "    b3 = network['b3']\n",
    "    a3 = np.dot(z2, W3) + b3\n",
    "    return a3\n",
    "\n",
    "\n",
    "network = init_network()\n",
    "x = np.array([1.0, 0.5])\n",
    "y = forward(network, x)\n",
    "print(y)\n"
   ]
  },
  {
   "cell_type": "code",
   "execution_count": 6,
   "metadata": {},
   "outputs": [],
   "source": [
    "import numpy as np\n",
    "import random \n",
    "network = init_network()\n",
    "batch_size = 16 # 一度に実行する処理の回数\n",
    "x = np.random.rand(1000,2) # 処理したいnumpy配列\n",
    "\n",
    "for i in range(0, len(x), batch_size): # batch_size回ずつ処理する\n",
    "    x_batch = x[i:i+batch_size] # i番目からi+batch_size番目までの値を取り出す\n",
    "    y_batch = forward(network,x_batch) # forward関数に渡す"
   ]
  },
  {
   "cell_type": "markdown",
   "metadata": {},
   "source": [
    "# 感想\n",
    "行列の積で次のニューロンに値を渡せることに興味深く感じた。\n",
    "batch処理は，Firebaseでデータを処理するときに使ったことがあるため，感覚はつかみやすかった。大量のデータの処理を軽くするにはbatch処理が向いていると感じた。最適なbatch_sizeがどのくらいであるか調べてみたいと感じた。\n",
    "\n",
    "# 参考文献\n",
    "- [【ゼロから作るDeep Learning】3章 ニューラルネットワーク](http://yusuke-ujitoko.hatenablog.com/entry/2016/12/25/232555)\n",
    "- [numpy.matrix.sum](https://numpy.org/doc/1.18/reference/generated/numpy.matrix.sum.html?highlight=sum#numpy.matrix.sum)"
   ]
  },
  {
   "cell_type": "code",
   "execution_count": null,
   "metadata": {},
   "outputs": [],
   "source": []
  }
 ],
 "metadata": {
  "kernelspec": {
   "display_name": "Python 3",
   "language": "python",
   "name": "python3"
  },
  "language_info": {
   "codemirror_mode": {
    "name": "ipython",
    "version": 3
   },
   "file_extension": ".py",
   "mimetype": "text/x-python",
   "name": "python",
   "nbconvert_exporter": "python",
   "pygments_lexer": "ipython3",
   "version": "3.7.6"
  }
 },
 "nbformat": 4,
 "nbformat_minor": 4
}
